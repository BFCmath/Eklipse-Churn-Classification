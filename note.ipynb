{
 "cells": [
  {
   "cell_type": "markdown",
   "metadata": {},
   "source": [
    "# what is Eklipse\n",
    "Eklipse is an advanced AI tool that automatically clips highlights from Twitch, YouTube, Facebook, and Kick streams and videos. <br>\n",
    "It uses AI to identify exciting moments like kills, clutches, and funny reactions."
   ]
  },
  {
   "cell_type": "code",
   "execution_count": 365,
   "metadata": {},
   "outputs": [
    {
     "data": {
      "text/html": [
       "<div>\n",
       "<style scoped>\n",
       "    .dataframe tbody tr th:only-of-type {\n",
       "        vertical-align: middle;\n",
       "    }\n",
       "\n",
       "    .dataframe tbody tr th {\n",
       "        vertical-align: top;\n",
       "    }\n",
       "\n",
       "    .dataframe thead th {\n",
       "        text-align: right;\n",
       "    }\n",
       "</style>\n",
       "<table border=\"1\" class=\"dataframe\">\n",
       "  <thead>\n",
       "    <tr style=\"text-align: right;\">\n",
       "      <th></th>\n",
       "      <th>user_id</th>\n",
       "      <th>total_stream</th>\n",
       "      <th>normal_clips</th>\n",
       "      <th>downloaded_clips</th>\n",
       "      <th>shared_clips</th>\n",
       "      <th>edited_clips</th>\n",
       "      <th>avg_waiting_time</th>\n",
       "      <th>days_active</th>\n",
       "      <th>total_spent_minutes</th>\n",
       "      <th>join_via</th>\n",
       "      <th>days_in_premium</th>\n",
       "      <th>churn_status</th>\n",
       "    </tr>\n",
       "  </thead>\n",
       "  <tbody>\n",
       "    <tr>\n",
       "      <th>0</th>\n",
       "      <td>45745320</td>\n",
       "      <td>0</td>\n",
       "      <td>0</td>\n",
       "      <td>0</td>\n",
       "      <td>0</td>\n",
       "      <td>0</td>\n",
       "      <td>0.000000</td>\n",
       "      <td>0</td>\n",
       "      <td>0.000000</td>\n",
       "      <td>Desktop</td>\n",
       "      <td>98</td>\n",
       "      <td>0</td>\n",
       "    </tr>\n",
       "    <tr>\n",
       "      <th>1</th>\n",
       "      <td>36485256</td>\n",
       "      <td>4</td>\n",
       "      <td>0</td>\n",
       "      <td>0</td>\n",
       "      <td>0</td>\n",
       "      <td>0</td>\n",
       "      <td>0.000000</td>\n",
       "      <td>0</td>\n",
       "      <td>0.000000</td>\n",
       "      <td>Desktop</td>\n",
       "      <td>36</td>\n",
       "      <td>0</td>\n",
       "    </tr>\n",
       "    <tr>\n",
       "      <th>2</th>\n",
       "      <td>52614000</td>\n",
       "      <td>14</td>\n",
       "      <td>551</td>\n",
       "      <td>15</td>\n",
       "      <td>0</td>\n",
       "      <td>23</td>\n",
       "      <td>1.378232</td>\n",
       "      <td>3</td>\n",
       "      <td>135.033333</td>\n",
       "      <td>Desktop</td>\n",
       "      <td>84</td>\n",
       "      <td>0</td>\n",
       "    </tr>\n",
       "    <tr>\n",
       "      <th>3</th>\n",
       "      <td>43295328</td>\n",
       "      <td>1</td>\n",
       "      <td>28</td>\n",
       "      <td>0</td>\n",
       "      <td>0</td>\n",
       "      <td>0</td>\n",
       "      <td>0.886389</td>\n",
       "      <td>0</td>\n",
       "      <td>0.000000</td>\n",
       "      <td>Desktop</td>\n",
       "      <td>120</td>\n",
       "      <td>0</td>\n",
       "    </tr>\n",
       "    <tr>\n",
       "      <th>4</th>\n",
       "      <td>70911240</td>\n",
       "      <td>1</td>\n",
       "      <td>28</td>\n",
       "      <td>10</td>\n",
       "      <td>0</td>\n",
       "      <td>10</td>\n",
       "      <td>0.770370</td>\n",
       "      <td>6</td>\n",
       "      <td>74.733333</td>\n",
       "      <td>Desktop</td>\n",
       "      <td>16</td>\n",
       "      <td>1</td>\n",
       "    </tr>\n",
       "  </tbody>\n",
       "</table>\n",
       "</div>"
      ],
      "text/plain": [
       "    user_id  total_stream  normal_clips  downloaded_clips  shared_clips  \\\n",
       "0  45745320             0             0                 0             0   \n",
       "1  36485256             4             0                 0             0   \n",
       "2  52614000            14           551                15             0   \n",
       "3  43295328             1            28                 0             0   \n",
       "4  70911240             1            28                10             0   \n",
       "\n",
       "   edited_clips  avg_waiting_time  days_active  total_spent_minutes join_via  \\\n",
       "0             0          0.000000            0             0.000000  Desktop   \n",
       "1             0          0.000000            0             0.000000  Desktop   \n",
       "2            23          1.378232            3           135.033333  Desktop   \n",
       "3             0          0.886389            0             0.000000  Desktop   \n",
       "4            10          0.770370            6            74.733333  Desktop   \n",
       "\n",
       "   days_in_premium  churn_status  \n",
       "0               98             0  \n",
       "1               36             0  \n",
       "2               84             0  \n",
       "3              120             0  \n",
       "4               16             1  "
      ]
     },
     "execution_count": 365,
     "metadata": {},
     "output_type": "execute_result"
    }
   ],
   "source": [
    "import pandas as pd \n",
    "import numpy as np \n",
    "import matplotlib.pyplot as plt\n",
    "\n",
    "#load data \n",
    "DATA_PATH = \"ds.dataset_raw.csv\"\n",
    "labels = ['user_id', 'total_stream', 'normal_clips', 'downloaded_clips', 'shared_clips', 'edited_clips', 'avg_waiting_time', 'days_active', 'total_spent_minutes', 'join_via', 'days_in_premium', 'churn_status']\n",
    "def load_data_from_csv(path = DATA_PATH):\n",
    "    return pd.read_csv(path)\n",
    "\n",
    "raw_data = load_data_from_csv()\n",
    "raw_data.head()"
   ]
  },
  {
   "cell_type": "code",
   "execution_count": 366,
   "metadata": {},
   "outputs": [
    {
     "name": "stdout",
     "output_type": "stream",
     "text": [
      "<class 'pandas.core.frame.DataFrame'>\n",
      "RangeIndex: 1000 entries, 0 to 999\n",
      "Data columns (total 12 columns):\n",
      " #   Column               Non-Null Count  Dtype  \n",
      "---  ------               --------------  -----  \n",
      " 0   user_id              1000 non-null   int64  \n",
      " 1   total_stream         1000 non-null   int64  \n",
      " 2   normal_clips         1000 non-null   int64  \n",
      " 3   downloaded_clips     1000 non-null   int64  \n",
      " 4   shared_clips         1000 non-null   int64  \n",
      " 5   edited_clips         1000 non-null   int64  \n",
      " 6   avg_waiting_time     1000 non-null   float64\n",
      " 7   days_active          1000 non-null   int64  \n",
      " 8   total_spent_minutes  1000 non-null   float64\n",
      " 9   join_via             1000 non-null   object \n",
      " 10  days_in_premium      1000 non-null   int64  \n",
      " 11  churn_status         1000 non-null   int64  \n",
      "dtypes: float64(2), int64(9), object(1)\n",
      "memory usage: 93.9+ KB\n"
     ]
    }
   ],
   "source": [
    "raw_data.info() #the raw data has shape(1000,12)"
   ]
  },
  {
   "cell_type": "code",
   "execution_count": 367,
   "metadata": {},
   "outputs": [
    {
     "data": {
      "image/png": "[encoded data removed]",
      "text/plain": [
       "<Figure size 1000x800 with 12 Axes>"
      ]
     },
     "metadata": {},
     "output_type": "display_data"
    }
   ],
   "source": [
    "raw_data.hist(figsize=(10,8))\n",
    "plt.tight_layout()\n",
    "plt.show()"
   ]
  },
  {
   "cell_type": "code",
   "execution_count": 368,
   "metadata": {},
   "outputs": [
    {
     "data": {
      "text/plain": [
       "churn_status\n",
       "0    931\n",
       "1     69\n",
       "Name: count, dtype: int64"
      ]
     },
     "execution_count": 368,
     "metadata": {},
     "output_type": "execute_result"
    }
   ],
   "source": [
    "raw_data[\"churn_status\"].value_counts()"
   ]
  },
  {
   "cell_type": "markdown",
   "metadata": {},
   "source": [
    "# first impression \n",
    "we see that data are small (1000,12) <br>\n",
    "no null - blank infor <br>\n",
    "imbalance <br>\n",
    "have only one category column <br>\n",
    "lots of 0 cells so it can be difficult to get a good result <br>"
   ]
  },
  {
   "cell_type": "markdown",
   "metadata": {},
   "source": [
    "# CLEANING\n",
    "no blank <br>\n",
    "noise (cant detect yet!)"
   ]
  },
  {
   "cell_type": "markdown",
   "metadata": {},
   "source": [
    "Let split the test and the training sets \n"
   ]
  },
  {
   "cell_type": "code",
   "execution_count": 369,
   "metadata": {},
   "outputs": [
    {
     "name": "stdout",
     "output_type": "stream",
     "text": [
      "churn_status\n",
      "0    0.93\n",
      "1    0.07\n",
      "Name: count, dtype: float64\n",
      "churn_status\n",
      "0    0.931111\n",
      "1    0.068889\n",
      "Name: count, dtype: float64\n"
     ]
    }
   ],
   "source": [
    "from sklearn.model_selection import StratifiedShuffleSplit\n",
    "split = StratifiedShuffleSplit(n_splits=1,test_size=0.1,random_state=42)\n",
    "for train_index, val_index in split.split(raw_data, raw_data[\"churn_status\"]):\n",
    "    strat_train_set = pd.DataFrame(raw_data.loc[train_index])\n",
    "    strat_test_set = pd.DataFrame(raw_data.loc[val_index])\n",
    "print(strat_test_set[\"churn_status\"].value_counts()/len(strat_test_set))\n",
    "print(strat_train_set[\"churn_status\"].value_counts()/len(strat_train_set))"
   ]
  },
  {
   "cell_type": "code",
   "execution_count": 370,
   "metadata": {},
   "outputs": [
    {
     "name": "stdout",
     "output_type": "stream",
     "text": [
      "<class 'pandas.core.frame.DataFrame'>\n",
      "Index: 90 entries, 133 to 41\n",
      "Data columns (total 12 columns):\n",
      " #   Column               Non-Null Count  Dtype  \n",
      "---  ------               --------------  -----  \n",
      " 0   user_id              90 non-null     int64  \n",
      " 1   total_stream         90 non-null     int64  \n",
      " 2   normal_clips         90 non-null     int64  \n",
      " 3   downloaded_clips     90 non-null     int64  \n",
      " 4   shared_clips         90 non-null     int64  \n",
      " 5   edited_clips         90 non-null     int64  \n",
      " 6   avg_waiting_time     90 non-null     float64\n",
      " 7   days_active          90 non-null     int64  \n",
      " 8   total_spent_minutes  90 non-null     float64\n",
      " 9   join_via             90 non-null     object \n",
      " 10  days_in_premium      90 non-null     int64  \n",
      " 11  churn_status         90 non-null     int64  \n",
      "dtypes: float64(2), int64(9), object(1)\n",
      "memory usage: 9.1+ KB\n",
      "None\n"
     ]
    }
   ],
   "source": [
    "#Then let the test set aside and split train and valid set \n",
    "split = StratifiedShuffleSplit(n_splits=1,test_size=0.1)\n",
    "for train_index, val_index in split.split(strat_train_set, strat_train_set[\"churn_status\"]):\n",
    "    train_set = pd.DataFrame(raw_data.loc[train_index])\n",
    "    val_set = pd.DataFrame(raw_data.loc[val_index])\n",
    "print(val_set.info())"
   ]
  },
  {
   "cell_type": "markdown",
   "metadata": {},
   "source": [
    "# Now, lets do feature extraction \n",
    "we see that the data doesnt have blank, so we dont need to fill na <br>\n",
    "we also know that the *join_via* is an object-category datatype, so we need to handle that  <br>"
   ]
  },
  {
   "cell_type": "code",
   "execution_count": 371,
   "metadata": {},
   "outputs": [
    {
     "name": "stdout",
     "output_type": "stream",
     "text": [
      "churn_status\n",
      "0    752\n",
      "1     58\n",
      "Name: count, dtype: int64\n",
      "churn_status\n",
      "0    84\n",
      "1     6\n",
      "Name: count, dtype: int64\n"
     ]
    }
   ],
   "source": [
    "data = train_set.drop(\"churn_status\",axis=1) #we wont use test set so, just rename the train_set to data\n",
    "data_labels = train_set[\"churn_status\"].copy()\n",
    "valid_data = val_set.drop(\"churn_status\",axis=1)\n",
    "valid_labels = val_set[\"churn_status\"].copy()\n",
    "print(data_labels.value_counts())\n",
    "print(valid_labels.value_counts())\n"
   ]
  },
  {
   "cell_type": "markdown",
   "metadata": {},
   "source": [
    "# choose metric and models\n",
    "I will use f1_score for this problem because this is an imbalanced data\n",
    "<br>and for models, I will first choose the RandomForest"
   ]
  },
  {
   "cell_type": "code",
   "execution_count": 372,
   "metadata": {},
   "outputs": [
    {
     "name": "stdout",
     "output_type": "stream",
     "text": [
      "pred [0 0 0 0 0 1 0 0 0 0 0 0 1 0 0 0 0 0 0 0 0 0 0 0 1 0 1 1 0 0 0 0 0 0 0 0 0\n",
      " 0 0 0 0 0 0 0 0 0 0 0 0 0 0 0 0 0 0 0 0 0 0 0 0 0 0 0 0 0 0 0 0 0 0 0 0 0\n",
      " 0 0 0 0 0 0 0 0 0 0 0 0 0 0 0 0]\n",
      "ground truth: [0 0 1 0 0 0 0 0 0 0 0 0 0 0 1 0 0 0 0 0 0 0 0 0 1 0 0 0 0 0 0 0 0 0 0 0 0\n",
      " 0 0 0 0 0 0 0 0 0 0 0 0 0 0 0 0 1 0 0 1 1 0 0 0 0 0 0 0 0 0 0 0 0 0 0 0 0\n",
      " 0 0 0 0 0 0 0 0 0 0 0 0 0 0 0 0]\n",
      "0.1818181818181818\n"
     ]
    }
   ],
   "source": [
    "#at first, we wont add or adjust any columns to see the initial result\n",
    "num_data = data.drop(\"join_via\",axis=1)\n",
    "cat_data = data[\"join_via\"].copy()\n",
    "\n",
    "\n",
    "from sklearn.preprocessing import OneHotEncoder\n",
    "from sklearn.compose import ColumnTransformer\n",
    "from sklearn.metrics import f1_score\n",
    "from sklearn.pipeline import Pipeline\n",
    "from sklearn.ensemble import RandomForestClassifier\n",
    "from sklearn.base import BaseEstimator, TransformerMixin\n",
    "\n",
    "categorical_columns = ['join_via']\n",
    "numerical_columns = list(num_data)\n",
    "numerical_columns.remove(\"user_id\") #we wont use user id because it has no value in predict the churn status\n",
    "columns_to_drop = ['user_id']\n",
    "# class DropColumns(BaseEstimator, TransformerMixin): # custome Transformer to drop cols\n",
    "#     def __init__(self, columns):\n",
    "#         self.columns = columns\n",
    "\n",
    "#     def fit(self, X: pd.DataFrame, y=None):\n",
    "#         return self\n",
    "\n",
    "#     def transform(self, X: pd.DataFrame):\n",
    "#         return X.drop(columns=self.columns)\n",
    "    \n",
    "coltrans = ColumnTransformer([\n",
    "    # ('drop_columns', DropColumns(columns_to_drop), columns_to_drop),\n",
    "    ('onehot', OneHotEncoder(), categorical_columns),\n",
    "    ('passthrough', 'passthrough', numerical_columns)\n",
    "])\n",
    "pipeline_RF = Pipeline([\n",
    "    ('preprocessor', coltrans),\n",
    "    ('classifier', RandomForestClassifier())\n",
    "])\n",
    "pipeline_RF.fit(data,data_labels)\n",
    "\n",
    "pred = pipeline_RF.predict(valid_data)\n",
    "f1 = f1_score(valid_labels.values,pred)\n",
    "print(\"pred\",pred)\n",
    "print(\"ground truth:\", valid_labels.values)\n",
    "print(f1)\n"
   ]
  },
  {
   "cell_type": "markdown",
   "metadata": {},
   "source": [
    "# The answer is clearly overfitting\n",
    "So we need to finetuning the models <br>\n",
    "one way is to use **GridSearchCV**"
   ]
  },
  {
   "cell_type": "markdown",
   "metadata": {},
   "source": [
    "# STILL OVERFITTING\n",
    "After some adjustment for the pararam_grid, the F1 score is still rly low ~0.13-16! <br>\n",
    "We need to build a new pipeline then, this time, lets do some feature engineering"
   ]
  },
  {
   "cell_type": "code",
   "execution_count": 374,
   "metadata": {},
   "outputs": [
    {
     "name": "stdout",
     "output_type": "stream",
     "text": [
      "[1.97693139e-04 9.06333981e-03 8.42756596e-03 1.24294283e-02\n",
      " 9.43732727e-03 4.12011857e-03 1.04034863e-02 6.82236846e-04\n",
      " 1.15004763e-01 8.63063121e-02 1.64434270e-02 8.63136695e-03\n",
      " 1.99525936e-02 1.51391902e-01 4.80950484e-02 9.86270132e-02\n",
      " 4.00786378e-01]\n"
     ]
    },
    {
     "data": {
      "text/html": [
       "<div>\n",
       "<style scoped>\n",
       "    .dataframe tbody tr th:only-of-type {\n",
       "        vertical-align: middle;\n",
       "    }\n",
       "\n",
       "    .dataframe tbody tr th {\n",
       "        vertical-align: top;\n",
       "    }\n",
       "\n",
       "    .dataframe thead th {\n",
       "        text-align: right;\n",
       "    }\n",
       "</style>\n",
       "<table border=\"1\" class=\"dataframe\">\n",
       "  <thead>\n",
       "    <tr style=\"text-align: right;\">\n",
       "      <th></th>\n",
       "      <th>Feature</th>\n",
       "      <th>Importance</th>\n",
       "    </tr>\n",
       "  </thead>\n",
       "  <tbody>\n",
       "    <tr>\n",
       "      <th>16</th>\n",
       "      <td>days_in_premium</td>\n",
       "      <td>0.400786</td>\n",
       "    </tr>\n",
       "    <tr>\n",
       "      <th>13</th>\n",
       "      <td>avg_waiting_time</td>\n",
       "      <td>0.151392</td>\n",
       "    </tr>\n",
       "    <tr>\n",
       "      <th>8</th>\n",
       "      <td>total_stream</td>\n",
       "      <td>0.115005</td>\n",
       "    </tr>\n",
       "    <tr>\n",
       "      <th>15</th>\n",
       "      <td>total_spent_minutes</td>\n",
       "      <td>0.098627</td>\n",
       "    </tr>\n",
       "    <tr>\n",
       "      <th>9</th>\n",
       "      <td>normal_clips</td>\n",
       "      <td>0.086306</td>\n",
       "    </tr>\n",
       "    <tr>\n",
       "      <th>14</th>\n",
       "      <td>days_active</td>\n",
       "      <td>0.048095</td>\n",
       "    </tr>\n",
       "    <tr>\n",
       "      <th>12</th>\n",
       "      <td>edited_clips</td>\n",
       "      <td>0.019953</td>\n",
       "    </tr>\n",
       "    <tr>\n",
       "      <th>10</th>\n",
       "      <td>downloaded_clips</td>\n",
       "      <td>0.016443</td>\n",
       "    </tr>\n",
       "    <tr>\n",
       "      <th>3</th>\n",
       "      <td>join_via_Desktop</td>\n",
       "      <td>0.012429</td>\n",
       "    </tr>\n",
       "    <tr>\n",
       "      <th>6</th>\n",
       "      <td>join_via_mobile_Safari_IOS</td>\n",
       "      <td>0.010403</td>\n",
       "    </tr>\n",
       "    <tr>\n",
       "      <th>4</th>\n",
       "      <td>join_via_mobile_Chrome_Android</td>\n",
       "      <td>0.009437</td>\n",
       "    </tr>\n",
       "    <tr>\n",
       "      <th>1</th>\n",
       "      <td>join_via_App_IOS</td>\n",
       "      <td>0.009063</td>\n",
       "    </tr>\n",
       "    <tr>\n",
       "      <th>11</th>\n",
       "      <td>shared_clips</td>\n",
       "      <td>0.008631</td>\n",
       "    </tr>\n",
       "    <tr>\n",
       "      <th>2</th>\n",
       "      <td>join_via_App_android</td>\n",
       "      <td>0.008428</td>\n",
       "    </tr>\n",
       "    <tr>\n",
       "      <th>5</th>\n",
       "      <td>join_via_mobile_Chrome_IOS</td>\n",
       "      <td>0.004120</td>\n",
       "    </tr>\n",
       "    <tr>\n",
       "      <th>7</th>\n",
       "      <td>join_via_mobile_other_Android</td>\n",
       "      <td>0.000682</td>\n",
       "    </tr>\n",
       "    <tr>\n",
       "      <th>0</th>\n",
       "      <td>join_via_App_Android</td>\n",
       "      <td>0.000198</td>\n",
       "    </tr>\n",
       "  </tbody>\n",
       "</table>\n",
       "</div>"
      ],
      "text/plain": [
       "                           Feature  Importance\n",
       "16                 days_in_premium    0.400786\n",
       "13                avg_waiting_time    0.151392\n",
       "8                     total_stream    0.115005\n",
       "15             total_spent_minutes    0.098627\n",
       "9                     normal_clips    0.086306\n",
       "14                     days_active    0.048095\n",
       "12                    edited_clips    0.019953\n",
       "10                downloaded_clips    0.016443\n",
       "3                 join_via_Desktop    0.012429\n",
       "6       join_via_mobile_Safari_IOS    0.010403\n",
       "4   join_via_mobile_Chrome_Android    0.009437\n",
       "1                 join_via_App_IOS    0.009063\n",
       "11                    shared_clips    0.008631\n",
       "2             join_via_App_android    0.008428\n",
       "5       join_via_mobile_Chrome_IOS    0.004120\n",
       "7    join_via_mobile_other_Android    0.000682\n",
       "0             join_via_App_Android    0.000198"
      ]
     },
     "execution_count": 374,
     "metadata": {},
     "output_type": "execute_result"
    }
   ],
   "source": [
    "#first let see the important features\n",
    "best_rf = pipeline_RF.named_steps['classifier']\n",
    "feature_importances = best_rf.feature_importances_\n",
    "print(feature_importances)\n",
    "column_transformer = pipeline_RF.named_steps['preprocessor'] #access to CT transformer\n",
    "onehot_columns = column_transformer.named_transformers_['onehot'].get_feature_names_out(categorical_columns) #get the onehot column names\n",
    "full_columns = list(onehot_columns) + numerical_columns\n",
    "# feature_names = ['join_via_App_Android', 'join_via_App_IOS', 'join_via_App_android', 'join_via_Desktop', 'join_via_mobile_Chrome_Android', 'join_via_mobile_Chrome_IOS', 'join_via_mobile_Safari_IOS', 'join_via_mobile_other_Android', 'user_id', 'total_stream', 'normal_clips', 'downloaded_clips', 'shared_clips', 'edited_clips', 'avg_waiting_time', 'days_active', 'total_spent_minutes', 'days_in_premium']\n",
    "\n",
    "feature_importance_df = pd.DataFrame({'Feature': full_columns, 'Importance': feature_importances})\n",
    "\n",
    "feature_importance_df = feature_importance_df.sort_values(by='Importance', ascending=False)\n",
    "feature_importance_df"
   ]
  },
  {
   "cell_type": "markdown",
   "metadata": {},
   "source": [
    "# Comment on important feature\n",
    "we clearly see that the days in premium is the one affecting the f1_score the most <br>\n",
    "Now, let extract and drop some attribs to see will we get better f1_score"
   ]
  },
  {
   "cell_type": "code",
   "execution_count": 457,
   "metadata": {},
   "outputs": [],
   "source": [
    "categorical_columns = ['join_via']\n",
    "numerical_columns = list(num_data)\n",
    "\n",
    "columns_to_drop = ['user_id','shared_clips','downloaded_clips','edited_clips',\"normal_clips\",'total_spent_minutes','days_active','total_stream'] #we wont use user id because it has no value in predict the churn status\n",
    "# columns_to_drop = ['user_id'] #we wont use user id because it has no value in predict the churn status\n",
    "for dropcol in columns_to_drop:\n",
    "    numerical_columns.remove(dropcol) \n",
    "    \n",
    "    \n",
    "bin_columns = ['shared_clips','normal_clips','downloaded_clips','edited_clips']\n",
    "clip_columns = ['shared_clips','normal_clips','downloaded_clips','edited_clips']\n",
    "avg_columns = ['total_spent_minutes','total_stream','days_active']\n",
    "from sklearn.preprocessing import FunctionTransformer\n",
    "\n",
    "from sklearn.preprocessing import StandardScaler\n",
    "class CombinedAttributesAdder(BaseEstimator,TransformerMixin): #this transformer is just a template\n",
    "    def __init__(self,add_bedrooms_per_room=True):\n",
    "        self.add_bedrooms_per_room = add_bedrooms_per_room\n",
    "    def fit(self,X,y=None):\n",
    "        return self\n",
    "    def transform(self,X,y=None):\n",
    "        return self\n",
    "\n",
    "class NumerizeCategoryPipe(BaseEstimator, TransformerMixin):#this transformer is used to change categoty to binary cols (if is target, =1, else = 0)\n",
    "    def __init__(self, target_column='join_via', target_value='Desktop'):\n",
    "        self.target_column = target_column\n",
    "        self.target_value = target_value\n",
    "    def fit(self, X, y=None):\n",
    "        return self\n",
    "    def transform(self, X, y=None):\n",
    "        X_copy = X.copy()  # Avoid modifying the original data\n",
    "        X_copy[self.target_column+'_'+self.target_value] = (X_copy[self.target_column] == self.target_value).astype(int)\n",
    "        return X_copy[[self.target_column+'_'+self.target_value]]\n",
    "    def get_feature_names_out(self,input_features=None):\n",
    "        return [self.target_column+'_'+self.target_value]\n",
    "        \n",
    "class IsActivePipe(BaseEstimator, TransformerMixin): #this transfomer is used to check is a value in cols > a threshold (default 0) or not \n",
    "    def __init__(self, target_column = None, threshold=0):\n",
    "        self.target_column = target_column\n",
    "        self.threshold = threshold\n",
    "    def fit(self, X, y=None):\n",
    "        return self\n",
    "    def transform(self, X, y=None):\n",
    "        self.feature_names = []\n",
    "        X_copy = X.copy()  # Avoid modifying the original data\n",
    "        if self.target_column is not None:\n",
    "            X_copy[self.target_column+\"_bin\"] = (X_copy[self.target_column] > self.threshold).astype(int)\n",
    "            return X_copy[self.target_column+\"_bin\"]\n",
    "        else:\n",
    "            for col in X_copy.select_dtypes(include='number'):  \n",
    "                X_copy[col+\"_bin\"] = (X_copy[col] > self.threshold).astype(int)\n",
    "                self.feature_names += [col + \"_bin\"]\n",
    "        return X_copy[self.feature_names]\n",
    "    def get_feature_names_out(self,input_features=None):\n",
    "        if self.target_column is not None: return [self.target_column+\"_bin\"] \n",
    "        else: return self.feature_names\n",
    "    \n",
    "class SumarizeClipPipe(BaseEstimator,TransformerMixin): #this transfomer is used to calculate all the clips cols to one\n",
    "    def __init__(self,added_clips = None):\n",
    "        if added_clips is None: self.added_clips = ['shared_clips','normal_clips','downloaded_clips','edited_clips']\n",
    "        else : self.added_clips = added_clips\n",
    "        \n",
    "    def fit(self, X, y=None):\n",
    "        return self\n",
    "    def transform(self, X:pd.DataFrame, y=None):\n",
    "        X['clips'] = X[self.added_clips].sum(axis=1)\n",
    "        return X[['clips']]\n",
    "    def get_feature_names_out(self,input_features=None):\n",
    "        return [\"clips\"]\n",
    "\n",
    "class PerDayPipe(BaseEstimator, TransformerMixin): #this transfomer is used to calculate average value per days active\n",
    "    def __init__(self, perday_cols=['total_spent_minutes', 'total_stream']):\n",
    "        self.perday_cols = perday_cols\n",
    "        self.cols_name = [col + '_avg' for col in perday_cols]  # List comprehension\n",
    "\n",
    "    def fit(self, X, y=None):\n",
    "        return self\n",
    "\n",
    "    def transform(self, X: pd.DataFrame, y=None):\n",
    "        for col, new_col in zip(self.perday_cols, self.cols_name):\n",
    "            X[new_col] = X[col] / X[\"days_active\"]  # Calculate the average directly\n",
    "            X[new_col] = X[new_col].replace([np.inf, -np.inf], np.nan) \n",
    "            X[new_col].fillna(0, inplace=True)  # Handle potential division by zero\n",
    "\n",
    "        return X[self.cols_name]\n",
    "\n",
    "    def get_feature_names_out(self, input_features=None):\n",
    "        return self.cols_name\n",
    "\n",
    "num_pipeline = Pipeline([\n",
    "    (\"std_scaler\",StandardScaler())\n",
    "])\n",
    "clip_pipeline = Pipeline([\n",
    "    ('summarize_clips', SumarizeClipPipe()),\n",
    "    ('standardize', StandardScaler())  # Add a StandardScaler step\n",
    "])\n",
    "average_pipeline = Pipeline([\n",
    "    ('perday',PerDayPipe()),\n",
    "    ('standardize',StandardScaler()),\n",
    "])\n",
    "full_pipeline = ColumnTransformer([\n",
    "    ('avg',average_pipeline, avg_columns),\n",
    "    ('clip',clip_pipeline,clip_columns),\n",
    "    ('num', num_pipeline, numerical_columns),\n",
    "    # ('bin', IsActivePipe(), bin_columns),\n",
    "    # ('cat', NumerizeCategoryPipe('join_via','Desktop'), ['join_via']),\n",
    "])\n",
    "data_prepared = full_pipeline.fit_transform(data,data_labels)\n",
    "rfc = RandomForestClassifier()\n"
   ]
  },
  {
   "cell_type": "code",
   "execution_count": 505,
   "metadata": {},
   "outputs": [
    {
     "name": "stdout",
     "output_type": "stream",
     "text": [
      "Best parameters for Random Forest (optimizing for AUC): {'bootstrap': False, 'max_depth': 25, 'min_samples_leaf': 1, 'min_samples_split': 20, 'n_estimators': 2}\n",
      "Best AUC score for Random Forest: 0.675664693290521\n"
     ]
    }
   ],
   "source": [
    "from sklearn.model_selection import GridSearchCV, StratifiedKFold\n",
    "\n",
    "param_grid = {\n",
    "    'n_estimators': [1, 2,4],\n",
    "    'max_depth': [5,10,15,25,50],\n",
    "    'min_samples_split': [2,5,10,15,20],\n",
    "    'min_samples_leaf': [1, 2,4],\n",
    "    'bootstrap': [False, True]\n",
    "}\n",
    "cv = StratifiedKFold(n_splits=5, shuffle=True) # custom cv to get the stratified valid test\n",
    "grid_search_RF = GridSearchCV(rfc, param_grid=param_grid, cv=cv, scoring='f1') \n",
    "grid_search_RF.fit(data_prepared, data_labels)\n",
    "best_params_RF = grid_search_RF.best_params_\n",
    "\n",
    "print(\"Best parameters for Random Forest:\", best_params_RF)\n",
    "print(\"Best F1 score for Random Forest:\", grid_search_RF.best_score_)\n",
    "# grid_search_RF = GridSearchCV(rfc, param_grid=param_grid, cv=cv, scoring='roc_auc') \n",
    "# grid_search_RF.fit(data_prepared, data_labels)\n",
    "# best_params_RF = grid_search_RF.best_params_\n",
    "\n",
    "# print(\"Best parameters for Random Forest (optimizing for AUC):\", best_params_RF)\n",
    "# print(\"Best AUC score for Random Forest:\", grid_search_RF.best_score_)\n"
   ]
  },
  {
   "cell_type": "markdown",
   "metadata": {},
   "source": [
    "# The f1 score is improved! 0.16 - 0.2<br>\n"
   ]
  },
  {
   "cell_type": "code",
   "execution_count": 459,
   "metadata": {},
   "outputs": [
    {
     "name": "stdout",
     "output_type": "stream",
     "text": [
      "                        feature  importance\n",
      "4          num__days_in_premium    0.481663\n",
      "3         num__avg_waiting_time    0.173706\n",
      "2                   clip__clips    0.157810\n",
      "0  avg__total_spent_minutes_avg    0.097347\n",
      "1         avg__total_stream_avg    0.089474\n"
     ]
    }
   ],
   "source": [
    "best_rf_model = grid_search_RF.best_estimator_\n",
    "feature_importances = best_rf_model.feature_importances_\n",
    "feature_names = full_pipeline.get_feature_names_out()\n",
    "\n",
    "feature_importances_df = pd.DataFrame({'feature': feature_names, 'importance': feature_importances})\n",
    "feature_importances_df = feature_importances_df.sort_values('importance', ascending=False)\n",
    "\n",
    "print(feature_importances_df)\n"
   ]
  },
  {
   "cell_type": "markdown",
   "metadata": {},
   "source": [
    "Use featuree_imporatances and best_estimator_ to see the importances of estimators <br>\n",
    "After some tests, I decided to use those features above <br>\n",
    "+ the days_in_premium and avg_waitint_time if from the original data \n",
    "+ the clips is from SumarizeClipPipe \n",
    "+ the avg feature is from PerDayPipe"
   ]
  },
  {
   "cell_type": "markdown",
   "metadata": {},
   "source": [
    "# Over sample\n",
    "now, lets use SMOTE and ADASYN to sample up the data <br>\n",
    "we still use the same full pipeline and RFC <br>\n",
    "based on the last GridCV, I can choose the params based on the best F1_score <br>\n",
    "\n",
    "NOTE: the best parameters will change sometimes (I didnt set seed random), but overall, I will choose those above  <br>\n",
    "_Hope it work_\n",
    "\n"
   ]
  },
  {
   "cell_type": "code",
   "execution_count": 460,
   "metadata": {},
   "outputs": [],
   "source": [
    "prepared_valid_data = full_pipeline.fit_transform(valid_data) "
   ]
  },
  {
   "cell_type": "code",
   "execution_count": 517,
   "metadata": {},
   "outputs": [],
   "source": [
    "from sklearn.metrics import f1_score, roc_auc_score\n",
    "\n",
    "def stratifyValidAverageScore(_data :np.ndarray, _data_labels:pd.Series,_model,_sampler=None,splits = 15,name=\"Unknown\"):\n",
    "    skf = StratifiedKFold(n_splits=splits, shuffle=True)\n",
    "    f1_scores = []\n",
    "    auc_scores = []\n",
    "    model = _model  # Replace with your desired model\n",
    "    for train_index, test_index in skf.split(_data, _data_labels):\n",
    "        X_train, X_test = _data[train_index,:], _data[test_index,:]\n",
    "        y_train, y_test = _data_labels.iloc[train_index], _data_labels.iloc[test_index]\n",
    "        if _sampler is not None:\n",
    "            X_train, y_train = _sampler.fit_resample(X_train,y_train)\n",
    "        \n",
    "        model.fit(X_train, y_train)\n",
    "\n",
    "        y_pred = model.predict(X_test)\n",
    "        \n",
    "        y_scores = model.predict_proba(X_test)[:, 1]  # Get probabilities for the positive class (assuming binary classification)\n",
    "        auc_score = roc_auc_score(y_test, y_scores)\n",
    "        auc_scores.append(auc_score) \n",
    "        \n",
    "        score = f1_score(y_test, y_pred) \n",
    "        f1_scores.append(score)\n",
    "    val_predict = model.predict(prepared_valid_data)\n",
    "    val_score = model.predict_proba(prepared_valid_data)[:,1]\n",
    "    val_f1_score = f1_score(valid_labels,val_predict)\n",
    "    val_auc_score = roc_auc_score(valid_labels,val_score)\n",
    "    print(name)\n",
    "    print(\"F1 Scores for each fold:\", f1_scores)\n",
    "    print(\"Average F1 Score:\", np.mean(f1_scores))\n",
    "    print(\"AUC Scores for each fold:\", auc_scores) \n",
    "    print(\"Average AUC Score:\", np.mean(auc_scores)) \n",
    "    print(\"F1 Scores for val set:\", val_f1_score)\n",
    "    print(\"AUC Scores for val set:\", val_auc_score) \n",
    "    print(\"\")\n",
    "#the above function is just the same as GridCV, but remember that resampler doesnt have transform, so I need to custom myself\n",
    "# and, I also calculate the average instead of best and also the auc!"
   ]
  },
  {
   "cell_type": "code",
   "execution_count": 518,
   "metadata": {},
   "outputs": [
    {
     "name": "stdout",
     "output_type": "stream",
     "text": [
      "smote\n",
      "F1 Scores for each fold: [0.0, 0.22222222222222224, 0.0, 0.5, 0.3333333333333333, 0.14285714285714288, 0.36363636363636365, 0.33333333333333337, 0.0, 0.5, 0.0, 0.2, 0.0, 0.0, 0.3333333333333333, 0.3333333333333333, 0.0, 0.0, 0.0, 0.13333333333333336, 0.22222222222222224, 0.2, 0.0, 0.0, 0.3636363636363636]\n",
      "Average F1 Score: 0.16724963924963923\n",
      "AUC Scores for each fold: [0.314516129032258, 0.5483870967741935, 0.37777777777777777, 0.7166666666666666, 0.4444444444444444, 0.4277777777777777, 0.7666666666666666, 0.6222222222222222, 0.31666666666666665, 0.8833333333333333, 0.7833333333333332, 0.775, 0.5333333333333333, 0.3833333333333333, 0.8833333333333333, 0.65, 0.3916666666666667, 0.475, 0.575, 0.5166666666666666, 0.775, 0.5833333333333334, 0.25, 0.4833333333333333, 0.8499999999999999]\n",
      "Average AUC Score: 0.5730716845878135\n",
      "F1 Scores for val set: 0.058823529411764705\n",
      "AUC Scores for val set: 0.4305555555555556\n",
      "\n",
      "borderlinesmote\n",
      "F1 Scores for each fold: [0.17391304347826084, 0.0, 0.0, 0.0, 0.28571428571428575, 0.4444444444444444, 0.5454545454545454, 0.30769230769230765, 0.2222222222222222, 0.4615384615384615, 0.0, 0.0, 0.0, 0.0, 0.25, 0.0, 0.0, 0.0, 0.0, 0.0, 0.0, 0.28571428571428575, 0.3333333333333333, 0.4444444444444445, 0.2]\n",
      "Average F1 Score: 0.15817885496146367\n",
      "AUC Scores for each fold: [0.6935483870967742, 0.29032258064516125, 0.4777777777777778, 0.5555555555555556, 0.5444444444444445, 0.7277777777777777, 0.9944444444444445, 0.6555555555555554, 0.6222222222222222, 0.8166666666666667, 0.5083333333333333, 0.18333333333333335, 0.5083333333333333, 0.23333333333333334, 0.6666666666666667, 0.35, 0.3666666666666667, 0.25, 0.6, 0.2833333333333333, 0.2833333333333333, 0.6083333333333334, 0.8833333333333333, 0.925, 0.7583333333333333]\n",
      "Average AUC Score: 0.5514659498207886\n",
      "F1 Scores for val set: 0.1818181818181818\n",
      "AUC Scores for val set: 0.6636904761904763\n",
      "\n",
      "svmsmote\n",
      "F1 Scores for each fold: [0.0, 0.16666666666666669, 0.28571428571428575, 0.28571428571428575, 0.3333333333333333, 0.28571428571428575, 0.2222222222222222, 0.3333333333333333, 0.16666666666666666, 0.28571428571428575, 0.3333333333333333, 0.0, 0.0, 0.0, 0.0, 0.8, 0.0, 0.25, 0.0, 0.0, 0.6666666666666666, 0.3333333333333333, 0.0, 0.0, 0.3076923076923077]\n",
      "Average F1 Score: 0.20224420024420023\n",
      "AUC Scores for each fold: [0.29032258064516125, 0.6209677419354839, 0.5555555555555555, 0.55, 0.5333333333333333, 0.6444444444444444, 0.8333333333333334, 0.6388888888888888, 0.6722222222222222, 0.5, 0.6083333333333334, 0.31666666666666665, 0.6583333333333333, 0.2833333333333333, 0.5333333333333333, 0.9833333333333334, 0.6166666666666667, 0.6000000000000001, 0.26666666666666666, 0.3, 0.9750000000000001, 0.8666666666666667, 0.6166666666666667, 0.5833333333333334, 0.7583333333333333]\n",
      "Average AUC Score: 0.5922293906810036\n",
      "F1 Scores for val set: 0.16666666666666669\n",
      "AUC Scores for val set: 0.5694444444444444\n",
      "\n",
      "adasyn\n",
      "F1 Scores for each fold: [0.22222222222222224, 0.1818181818181818, 0.0, 0.0, 0.26666666666666666, 0.3333333333333333, 0.0, 0.0, 0.14285714285714288, 0.28571428571428575, 0.0, 0.14285714285714285, 0.2857142857142857, 0.3333333333333333, 0.0, 0.1818181818181818, 0.0, 0.3333333333333333, 0.0, 0.0, 0.22222222222222224, 0.0, 0.25, 0.25, 0.1818181818181818]\n",
      "Average F1 Score: 0.14454834054834056\n",
      "AUC Scores for each fold: [0.8548387096774194, 0.596774193548387, 0.6277777777777777, 0.5111111111111111, 0.7611111111111111, 0.7111111111111111, 0.7, 0.6, 0.5888888888888888, 0.7722222222222223, 0.15000000000000002, 0.7083333333333333, 0.7749999999999999, 0.6166666666666667, 0.26666666666666666, 0.8416666666666667, 0.35, 0.8250000000000001, 0.5249999999999999, 0.21666666666666667, 0.75, 0.44166666666666665, 0.575, 0.7583333333333333, 0.5916666666666667]\n",
      "Average AUC Score: 0.6046200716845879\n",
      "F1 Scores for val set: 0.10526315789473684\n",
      "AUC Scores for val set: 0.4662698412698413\n",
      "\n"
     ]
    }
   ],
   "source": [
    "from imblearn.over_sampling import ADASYN,SMOTE, BorderlineSMOTE, SVMSMOTE, SMOTENC\n",
    "\n",
    "rfc = RandomForestClassifier(bootstrap=True, max_depth=15, min_samples_leaf=2, min_samples_split=10, n_estimators= 1)\n",
    "\n",
    "smote = SMOTE(sampling_strategy = 1,random_state=5)\n",
    "stratifyValidAverageScore(data_prepared,data_labels,rfc,smote,25,\"smote\")\n",
    "borderline = BorderlineSMOTE(sampling_strategy = 1,random_state=5)\n",
    "stratifyValidAverageScore(data_prepared,data_labels,rfc,borderline,25,\"borderlinesmote\")\n",
    "svmsmote = SVMSMOTE(sampling_strategy = 1,random_state=5)\n",
    "stratifyValidAverageScore(data_prepared,data_labels,rfc,svmsmote,25,\"svmsmote\")\n",
    "adasyn = ADASYN(sampling_strategy=1,random_state=5)\n",
    "stratifyValidAverageScore(data_prepared,data_labels,rfc,adasyn,25,\"adasyn\")\n",
    "\n",
    "\n",
    "\n",
    "\n",
    "# grid_search_RF.fit(smote_data, smote_data_labels)\n",
    "# best_params_RF = grid_search_RF.best_params_\n",
    "\n",
    "# print(\"Best parameters for Random Forest:\", best_params_RF)\n",
    "# print(\"Best F1 score for Random Forest:\", grid_search_RF.best_score_)"
   ]
  },
  {
   "cell_type": "markdown",
   "metadata": {},
   "source": [
    "# f1_score on val is about 18-20 while the auc is about 60-65\n",
    "actually, not top good, but for this dataset, I think this result is acceptable! <br>\n",
    "And look at the AUC and F1 scores of val set, its  very low compared to the means from trains set cross validation! "
   ]
  },
  {
   "cell_type": "markdown",
   "metadata": {},
   "source": [
    "# The final result on test set\n",
    "I will choose the same full pipeline and the resampler will be borderlineSMOTE <br>\n",
    "Lets see the final result "
   ]
  },
  {
   "cell_type": "code",
   "execution_count": 463,
   "metadata": {},
   "outputs": [],
   "source": [
    "test_data = strat_test_set.drop(\"churn_status\",axis=1)\n",
    "test_data_labels = strat_test_set[\"churn_status\"].copy()\n",
    "train_data = strat_train_set.drop(\"churn_status\",axis=1)\n",
    "train_data_labels = strat_train_set[\"churn_status\"].copy()\n",
    "rfc = RandomForestClassifier(bootstrap=True, max_depth=15, min_samples_leaf=2, min_samples_split=10, n_estimators= 1)\n"
   ]
  },
  {
   "cell_type": "code",
   "execution_count": 516,
   "metadata": {},
   "outputs": [
    {
     "name": "stdout",
     "output_type": "stream",
     "text": [
      "auc_score = 0.5468509984639016\n",
      "f1_scr = 0.12121212121212123\n"
     ]
    }
   ],
   "source": [
    "X = full_pipeline.fit_transform(train_data,train_data_labels)\n",
    "y = train_data_labels\n",
    "X1 = full_pipeline.fit_transform(test_data)\n",
    "y1 = test_data_labels\n",
    "X, y = borderline.fit_resample(X,y)\n",
    "rfc.fit(X,y)\n",
    "y_pred = rfc.predict(X1)\n",
    "y_scores = rfc.predict_proba(X1)[:, 1]\n",
    "auc_score = roc_auc_score(y1, y_scores)        \n",
    "f1_scr = f1_score(y1, y_pred) \n",
    "print(f\"{auc_score = }\")\n",
    "print(f\"{f1_scr = }\")"
   ]
  },
  {
   "cell_type": "markdown",
   "metadata": {},
   "source": [
    "# CONCLUSION\n",
    "this dataset is really hard! <br>\n",
    "its small, imbalance, and most of all, the pattern is not easy to find!! <br>\n",
    "As you can see, my final is really different from the Cross validation of Train set. (unstable) <br>\n",
    "You can try to run the final-result cell many times, you will see that the result fluctuates from 0.5 -> 0.6 for auc and 0.1 -> 0.18 for f1 <br>\n",
    "There are many others models, but I will choose RandomForest because its familiar with me (hehe) <br>\n",
    "You can also see the code python in main.py and also the steps I go through in search.ipynb "
   ]
  }
 ],
 "metadata": {
  "kernelspec": {
   "display_name": "base",
   "language": "python",
   "name": "python3"
  },
  "language_info": {
   "codemirror_mode": {
    "name": "ipython",
    "version": 3
   },
   "file_extension": ".py",
   "mimetype": "text/x-python",
   "name": "python",
   "nbconvert_exporter": "python",
   "pygments_lexer": "ipython3",
   "version": "3.11.7"
  }
 },
 "nbformat": 4,
 "nbformat_minor": 2
}
