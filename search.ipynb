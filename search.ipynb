{
 "cells": [
  {
   "cell_type": "markdown",
   "metadata": {},
   "source": [
    "# How to handle Churn Classification\n",
    "<br>\n",
    " Various machine learning techniques are employed in churn prediction, including:<be>\n",
    " + logistic regression  <br>\n",
    " + decision trees  <br>\n",
    " + random forests <strong>(used)</strong><br>\n",
    " + support vector machines (SVM) \n",
    " <br>+ gradient boosting \n",
    " <br>+ and neural networks.<br>\n",
    "  Each technique has its strengths and may be suitable depending on the specific dataset and problem at hand."
   ]
  },
  {
   "cell_type": "markdown",
   "metadata": {},
   "source": [
    "# Step in ML\n",
    "+ cleaning (done)\n",
    "+ Feature Extraction (done)\n",
    "+ Feature Selection (done)\n",
    "+ Feature Scaling (done)\n",
    "+ Choose Algorithm (done)\n",
    "+ split training, validation and test (done)\n",
    "+ train model (done)\n",
    "+ evaluation and repeat (done)\n"
   ]
  },
  {
   "cell_type": "markdown",
   "metadata": {},
   "source": [
    "# How to handle imbalance in churn classification\n",
    "\n",
    "<br> Readmore: https://machinelearningmastery.com/tactics-to-combat-imbalanced-classes-in-your-machine-learning-dataset/"
   ]
  }
 ],
 "metadata": {
  "language_info": {
   "name": "python"
  }
 },
 "nbformat": 4,
 "nbformat_minor": 2
}
